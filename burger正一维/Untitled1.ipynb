{
 "cells": [
  {
   "cell_type": "code",
   "execution_count": 1,
   "id": "7efad8df",
   "metadata": {},
   "outputs": [],
   "source": [
    "from net import Net\n",
    "import torch\n",
    "from torch.autograd import grad\n",
    "import os\n",
    "import matplotlib.pyplot as plt\n",
    "import scipy.io\n",
    "import numpy as np\n",
    "from math import pi"
   ]
  },
  {
   "cell_type": "code",
   "execution_count": 2,
   "id": "9fc549ba",
   "metadata": {},
   "outputs": [],
   "source": [
    "def d(f, x):\n",
    "    return grad(f, x, grad_outputs=torch.ones_like(f), create_graph=True, only_inputs=True)[0]\n",
    "    #gradoutputs 向量与f中的自变量有关   create_graph可以计算高阶导数"
   ]
  },
  {
   "cell_type": "code",
   "execution_count": 3,
   "id": "8177fb28",
   "metadata": {},
   "outputs": [],
   "source": [
    "def PDE(u, t, x, nu):\n",
    "    return d(u, t) + u * d(u, x) - nu * d(d(u, x), x)\n",
    "    #PDE函数u_t + u*u_x -nu*u_xx 应该趋于0"
   ]
  },
  {
   "cell_type": "code",
   "execution_count": 9,
   "id": "b93f5a7b",
   "metadata": {},
   "outputs": [
    {
     "data": {
      "text/plain": [
       "(100, 256)"
      ]
     },
     "execution_count": 9,
     "metadata": {},
     "output_type": "execute_result"
    }
   ],
   "source": [
    "nu = 0.01 / pi\n",
    "lr = 0.001    #学习率\n",
    "epochs = 12000   #12000轮周期\n",
    "t_left, t_right = 0., 1.   #边界t在0-1\n",
    "x_left, x_right = -1., 1.   #x在-1 -1\n",
    "n_f, n_b_1, n_b_2 = 10000, 5000, 5000   #训练点数量 残差f:10000个 边界：10000个 共20000\n",
    "    # test data\n",
    "data = scipy.io.loadmat('./result/burgers_shock.mat')\n",
    "#有三个double数据，分别是\n",
    "#x :256*1 是-1到1的均分\n",
    "#t :100*1 0-1\n",
    "#usol精确解 256*100\n",
    "Exact = np.real(data['usol']).T  #real函数返回实部，提取出精确解 加转置是之后按行展开对应解\n",
    "t = data['t'].flatten()[:, None]  #展开成1维度，flatten展0维，[:,none]加一维\n",
    "x = data['x'].flatten()[:, None]\n",
    "X, T = np.meshgrid(x, t)  #生成二维网格\n",
    "s_shape = X.shape   #100行256列\n",
    "s_shape"
   ]
  },
  {
   "cell_type": "code",
   "execution_count": 14,
   "id": "8b2a3ce1",
   "metadata": {},
   "outputs": [
    {
     "data": {
      "text/plain": [
       "array([[-1.        ,  0.        ],\n",
       "       [-0.99215686,  0.        ],\n",
       "       [-0.98431373,  0.        ],\n",
       "       ...,\n",
       "       [ 0.98431373,  0.99      ],\n",
       "       [ 0.99215686,  0.99      ],\n",
       "       [ 1.        ,  0.99      ]])"
      ]
     },
     "execution_count": 14,
     "metadata": {},
     "output_type": "execute_result"
    }
   ],
   "source": [
    "X_star = np.hstack((X.flatten()[:, None], T.flatten()[:, None]))\n",
    "# 在水平方向上平铺(25600, 2) hstack按行加，X flatten 100*256  T同理\n",
    "X_star"
   ]
  },
  {
   "cell_type": "code",
   "execution_count": 15,
   "id": "425a81db",
   "metadata": {},
   "outputs": [
    {
     "data": {
      "text/plain": [
       "tensor([[ 1.2246e-16],\n",
       "        [ 2.4637e-02],\n",
       "        [ 4.9260e-02],\n",
       "        [ 7.3853e-02],\n",
       "        [ 9.8400e-02],\n",
       "        [ 1.2289e-01],\n",
       "        [ 1.4730e-01],\n",
       "        [ 1.7163e-01],\n",
       "        [ 1.9585e-01],\n",
       "        [ 2.1995e-01],\n",
       "        [ 2.4391e-01],\n",
       "        [ 2.6773e-01],\n",
       "        [ 2.9139e-01],\n",
       "        [ 3.1487e-01],\n",
       "        [ 3.3816e-01],\n",
       "        [ 3.6124e-01],\n",
       "        [ 3.8411e-01],\n",
       "        [ 4.0674e-01],\n",
       "        [ 4.2912e-01],\n",
       "        [ 4.5124e-01],\n",
       "        [ 4.7309e-01],\n",
       "        [ 4.9466e-01],\n",
       "        [ 5.1592e-01],\n",
       "        [ 5.3687e-01],\n",
       "        [ 5.5749e-01],\n",
       "        [ 5.7777e-01],\n",
       "        [ 5.9771e-01],\n",
       "        [ 6.1728e-01],\n",
       "        [ 6.3647e-01],\n",
       "        [ 6.5528e-01],\n",
       "        [ 6.7370e-01],\n",
       "        [ 6.9170e-01],\n",
       "        [ 7.0928e-01],\n",
       "        [ 7.2643e-01],\n",
       "        [ 7.4314e-01],\n",
       "        [ 7.5940e-01],\n",
       "        [ 7.7520e-01],\n",
       "        [ 7.9053e-01],\n",
       "        [ 8.0538e-01],\n",
       "        [ 8.1974e-01],\n",
       "        [ 8.3360e-01],\n",
       "        [ 8.4696e-01],\n",
       "        [ 8.5980e-01],\n",
       "        [ 8.7212e-01],\n",
       "        [ 8.8391e-01],\n",
       "        [ 8.9516e-01],\n",
       "        [ 9.0587e-01],\n",
       "        [ 9.1603e-01],\n",
       "        [ 9.2564e-01],\n",
       "        [ 9.3468e-01],\n",
       "        [ 9.4315e-01],\n",
       "        [ 9.5106e-01],\n",
       "        [ 9.5838e-01],\n",
       "        [ 9.6512e-01],\n",
       "        [ 9.7128e-01],\n",
       "        [ 9.7685e-01],\n",
       "        [ 9.8182e-01],\n",
       "        [ 9.8620e-01],\n",
       "        [ 9.8998e-01],\n",
       "        [ 9.9316e-01],\n",
       "        [ 9.9573e-01],\n",
       "        [ 9.9771e-01],\n",
       "        [ 9.9907e-01],\n",
       "        [ 9.9983e-01],\n",
       "        [ 9.9998e-01],\n",
       "        [ 9.9953e-01],\n",
       "        [ 9.9846e-01],\n",
       "        [ 9.9680e-01],\n",
       "        [ 9.9452e-01],\n",
       "        [ 9.9164e-01],\n",
       "        [ 9.8817e-01],\n",
       "        [ 9.8409e-01],\n",
       "        [ 9.7941e-01],\n",
       "        [ 9.7414e-01],\n",
       "        [ 9.6828e-01],\n",
       "        [ 9.6183e-01],\n",
       "        [ 9.5479e-01],\n",
       "        [ 9.4718e-01],\n",
       "        [ 9.3899e-01],\n",
       "        [ 9.3023e-01],\n",
       "        [ 9.2091e-01],\n",
       "        [ 9.1102e-01],\n",
       "        [ 9.0059e-01],\n",
       "        [ 8.8960e-01],\n",
       "        [ 8.7808e-01],\n",
       "        [ 8.6603e-01],\n",
       "        [ 8.5344e-01],\n",
       "        [ 8.4034e-01],\n",
       "        [ 8.2673e-01],\n",
       "        [ 8.1262e-01],\n",
       "        [ 7.9802e-01],\n",
       "        [ 7.8293e-01],\n",
       "        [ 7.6736e-01],\n",
       "        [ 7.5133e-01],\n",
       "        [ 7.3484e-01],\n",
       "        [ 7.1791e-01],\n",
       "        [ 7.0054e-01],\n",
       "        [ 6.8275e-01],\n",
       "        [ 6.6454e-01],\n",
       "        [ 6.4593e-01],\n",
       "        [ 6.2692e-01],\n",
       "        [ 6.0754e-01],\n",
       "        [ 5.8779e-01],\n",
       "        [ 5.6767e-01],\n",
       "        [ 5.4722e-01],\n",
       "        [ 5.2643e-01],\n",
       "        [ 5.0533e-01],\n",
       "        [ 4.8391e-01],\n",
       "        [ 4.6220e-01],\n",
       "        [ 4.4022e-01],\n",
       "        [ 4.1796e-01],\n",
       "        [ 3.9545e-01],\n",
       "        [ 3.7270e-01],\n",
       "        [ 3.4973e-01],\n",
       "        [ 3.2654e-01],\n",
       "        [ 3.0315e-01],\n",
       "        [ 2.7958e-01],\n",
       "        [ 2.5584e-01],\n",
       "        [ 2.3195e-01],\n",
       "        [ 2.0791e-01],\n",
       "        [ 1.8375e-01],\n",
       "        [ 1.5948e-01],\n",
       "        [ 1.3511e-01],\n",
       "        [ 1.1065e-01],\n",
       "        [ 8.6133e-02],\n",
       "        [ 6.1561e-02],\n",
       "        [ 3.6952e-02],\n",
       "        [ 1.2320e-02],\n",
       "        [-1.2320e-02],\n",
       "        [-3.6952e-02],\n",
       "        [-6.1561e-02],\n",
       "        [-8.6133e-02],\n",
       "        [-1.1065e-01],\n",
       "        [-1.3511e-01],\n",
       "        [-1.5948e-01],\n",
       "        [-1.8375e-01],\n",
       "        [-2.0791e-01],\n",
       "        [-2.3195e-01],\n",
       "        [-2.5584e-01],\n",
       "        [-2.7958e-01],\n",
       "        [-3.0315e-01],\n",
       "        [-3.2654e-01],\n",
       "        [-3.4973e-01],\n",
       "        [-3.7270e-01],\n",
       "        [-3.9545e-01],\n",
       "        [-4.1796e-01],\n",
       "        [-4.4022e-01],\n",
       "        [-4.6220e-01],\n",
       "        [-4.8391e-01],\n",
       "        [-5.0533e-01],\n",
       "        [-5.2643e-01],\n",
       "        [-5.4722e-01],\n",
       "        [-5.6767e-01],\n",
       "        [-5.8779e-01],\n",
       "        [-6.0754e-01],\n",
       "        [-6.2692e-01],\n",
       "        [-6.4593e-01],\n",
       "        [-6.6454e-01],\n",
       "        [-6.8275e-01],\n",
       "        [-7.0054e-01],\n",
       "        [-7.1791e-01],\n",
       "        [-7.3484e-01],\n",
       "        [-7.5133e-01],\n",
       "        [-7.6736e-01],\n",
       "        [-7.8293e-01],\n",
       "        [-7.9802e-01],\n",
       "        [-8.1262e-01],\n",
       "        [-8.2673e-01],\n",
       "        [-8.4034e-01],\n",
       "        [-8.5344e-01],\n",
       "        [-8.6603e-01],\n",
       "        [-8.7808e-01],\n",
       "        [-8.8960e-01],\n",
       "        [-9.0059e-01],\n",
       "        [-9.1102e-01],\n",
       "        [-9.2091e-01],\n",
       "        [-9.3023e-01],\n",
       "        [-9.3899e-01],\n",
       "        [-9.4718e-01],\n",
       "        [-9.5479e-01],\n",
       "        [-9.6183e-01],\n",
       "        [-9.6828e-01],\n",
       "        [-9.7414e-01],\n",
       "        [-9.7941e-01],\n",
       "        [-9.8409e-01],\n",
       "        [-9.8817e-01],\n",
       "        [-9.9164e-01],\n",
       "        [-9.9452e-01],\n",
       "        [-9.9680e-01],\n",
       "        [-9.9846e-01],\n",
       "        [-9.9953e-01],\n",
       "        [-9.9998e-01],\n",
       "        [-9.9983e-01],\n",
       "        [-9.9907e-01],\n",
       "        [-9.9771e-01],\n",
       "        [-9.9573e-01],\n",
       "        [-9.9316e-01],\n",
       "        [-9.8998e-01],\n",
       "        [-9.8620e-01],\n",
       "        [-9.8182e-01]], device='cuda:0', grad_fn=<SliceBackward0>)"
      ]
     },
     "execution_count": 15,
     "metadata": {},
     "output_type": "execute_result"
    }
   ],
   "source": [
    "\n",
    "\n",
    "X_star = X_star.astype(np.float32) #数据转换为np\n",
    "X_star = torch.from_numpy(X_star).cuda().requires_grad_(True)  #换成tensor张量 Gpu计算，可求导\n",
    "u_star = Exact.flatten()[:, None] #精确解\n",
    "u_star = u_star.astype(np.float32)\n",
    "u_star = torch.from_numpy(u_star).cuda().requires_grad_(True)\n",
    "u_star[0:200,:]"
   ]
  },
  {
   "cell_type": "code",
   "execution_count": null,
   "id": "7ff99bf2",
   "metadata": {},
   "outputs": [],
   "source": []
  },
  {
   "cell_type": "code",
   "execution_count": null,
   "id": "b9571840",
   "metadata": {},
   "outputs": [],
   "source": []
  },
  {
   "cell_type": "code",
   "execution_count": 6,
   "id": "15f0924b",
   "metadata": {},
   "outputs": [
    {
     "data": {
      "image/png": "[encoded data removed]",
      "text/plain": [
       "<Figure size 640x480 with 2 Axes>"
      ]
     },
     "metadata": {},
     "output_type": "display_data"
    }
   ],
   "source": [
    " os.environ['CUDA_VISIBLE_DEVICES'] = '0'\n",
    "device = torch.device('cuda:0') if torch.cuda.is_available() else torch.cuda('cpu')\n",
    "#加载gpu0\n",
    "\n",
    "PINN = Net(seq_net=[2, 20, 20, 20, 20, 20, 20, 1], activation=torch.tanh).to(device)\n",
    "#pinn网络设置 指定到gpu上运算\n",
    "\n",
    "optimizer = torch.optim.Adam(PINN.parameters(), lr)\n",
    "#优化器\n",
    "criterion = torch.nn.MSELoss()\n",
    "#残差函数 均方误差 预测值与真实值用均方误差\n",
    "\n",
    "loss_history = []\n",
    "#损失函数历史\n",
    "mse_loss = []\n",
    "#均方误差损失函数\n",
    "\n",
    "plt.cla()  #清除axes 画图\n",
    "mse_test = u_star #残差精确测试项提取\n",
    "'''\n",
    "精确解画图\n",
    "'''\n",
    "plt.pcolormesh(np.squeeze(t, axis=1), np.squeeze(x, axis=1),\n",
    "               mse_test.cpu().detach().numpy().reshape(s_shape).T, cmap='rainbow')\n",
    "#squeeze降成一维  .detach阻断反向传播\n",
    "#rainbow颜色显示具体函数值\n",
    "cbar = plt.colorbar(pad=0.05, aspect=10)\n",
    "cbar.mappable.set_clim(-1, 1)\n",
    "#设置颜色组成及对应关系\n",
    "# plt.xticks([])\n",
    "# plt.yticks([])\n",
    "plt.xlabel('t')\n",
    "plt.ylabel('x')\n",
    "plt.savefig('./result_plot/Burger1d_exact.png', bbox_inches='tight', format='png')\n",
    "#存图片\n",
    "#\n",
    "plt.show()"
   ]
  },
  {
   "cell_type": "code",
   "execution_count": null,
   "id": "7ae60a36",
   "metadata": {},
   "outputs": [],
   "source": []
  },
  {
   "cell_type": "code",
   "execution_count": 7,
   "id": "8e382cab",
   "metadata": {},
   "outputs": [],
   "source": [
    "#循环"
   ]
  },
  {
   "cell_type": "code",
   "execution_count": 8,
   "id": "bd0b6670",
   "metadata": {},
   "outputs": [],
   "source": [
    "epoch=1"
   ]
  },
  {
   "cell_type": "code",
   "execution_count": 9,
   "id": "5f4ad896",
   "metadata": {},
   "outputs": [],
   "source": [
    " optimizer.zero_grad()"
   ]
  },
  {
   "cell_type": "code",
   "execution_count": 10,
   "id": "40fc70c0",
   "metadata": {},
   "outputs": [],
   "source": [
    "t_f = ((t_left + t_right) / 2 + (t_right - t_left) *\n",
    "               (torch.rand(size=(n_f, 1), dtype=torch.float, device=device) - 0.5)\n",
    "               ).requires_grad_(True)"
   ]
  },
  {
   "cell_type": "code",
   "execution_count": 13,
   "id": "d744e4d0",
   "metadata": {},
   "outputs": [],
   "source": [
    "x_f = ((x_left + x_right) / 2 + (x_right - x_left) *\n",
    "               (torch.rand(size=(n_f, 1), dtype=torch.float, device=device) - 0.5)\n",
    "               ).requires_grad_(True)\n",
    "        ##随机点x属于[-1,1] 均匀分布 用n_f=10000个点 属于pde内部随机选点"
   ]
  },
  {
   "cell_type": "code",
   "execution_count": 14,
   "id": "eec9689a",
   "metadata": {},
   "outputs": [
    {
     "data": {
      "text/plain": [
       "tensor([[-0.0461],\n",
       "        [-0.0310],\n",
       "        [ 0.0147],\n",
       "        ...,\n",
       "        [-0.0242],\n",
       "        [-0.0220],\n",
       "        [ 0.0370]], device='cuda:0', grad_fn=<AddmmBackward0>)"
      ]
     },
     "execution_count": 14,
     "metadata": {},
     "output_type": "execute_result"
    }
   ],
   "source": [
    "u_f = PINN(torch.cat([t_f, x_f], dim=1))\n",
    "        #内部点pinn得到的函数值\n",
    "u_f"
   ]
  },
  {
   "cell_type": "code",
   "execution_count": 15,
   "id": "9bc0bbb4",
   "metadata": {},
   "outputs": [
    {
     "data": {
      "text/plain": [
       "tensor([[-0.0107],\n",
       "        [-0.0133],\n",
       "        [-0.0144],\n",
       "        ...,\n",
       "        [-0.0134],\n",
       "        [-0.0146],\n",
       "        [-0.0120]], device='cuda:0', grad_fn=<SubBackward0>)"
      ]
     },
     "execution_count": 15,
     "metadata": {},
     "output_type": "execute_result"
    }
   ],
   "source": [
    "PDE_ = PDE(u_f, t_f, x_f, nu)\n",
    "        #之前写的pde函数\n",
    "PDE_"
   ]
  },
  {
   "cell_type": "code",
   "execution_count": 16,
   "id": "ac5259ab",
   "metadata": {},
   "outputs": [
    {
     "data": {
      "text/plain": [
       "tensor(0.0002, device='cuda:0', grad_fn=<MseLossBackward0>)"
      ]
     },
     "execution_count": 16,
     "metadata": {},
     "output_type": "execute_result"
    }
   ],
   "source": [
    "mse_PDE = criterion(PDE_, torch.zeros_like(PDE_))\n",
    "mse_PDE"
   ]
  },
  {
   "cell_type": "code",
   "execution_count": 19,
   "id": "279011e1",
   "metadata": {},
   "outputs": [
    {
     "data": {
      "text/plain": [
       "tensor([[-0.4133],\n",
       "        [-0.9781],\n",
       "        [ 0.9551],\n",
       "        ...,\n",
       "        [ 0.4268],\n",
       "        [ 0.1556],\n",
       "        [ 1.0244]], device='cuda:0', grad_fn=<AddBackward0>)"
      ]
     },
     "execution_count": 19,
     "metadata": {},
     "output_type": "execute_result"
    }
   ],
   "source": [
    "x_rand = ((x_left + x_right) / 2 + (x_right - x_left) *(torch.rand(size=(n_b_1, 1), dtype=torch.float, device=device) - 0.5)).requires_grad_(True)\n",
    "#随机点x属于[-1,1] 均匀分布 用n_b_1=5000个点 属于pde边界点t=0\n",
    "t_b = (t_left * torch.ones_like(x_rand)).requires_grad_(True)\n",
    "#t_b维度上对齐x_rand，属于边界点t=0\n",
    "u_b_1 = PINN(torch.cat([t_b, x_rand], dim=1)) + torch.sin(pi * x_rand)\n",
    "u_b_1\n",
    "#t=0,x=[-1,1]上边界点的函数值，要接近-sin(x*pi),现在要趋近于0"
   ]
  },
  {
   "cell_type": "code",
   "execution_count": 20,
   "id": "76655647",
   "metadata": {},
   "outputs": [],
   "source": [
    "t_rand = ((t_left + t_right) / 2 + (t_right - t_left) *(torch.rand(size=(n_b_2, 1), dtype=torch.float, device=device) - 0.5)).requires_grad_(True)\n",
    "#随机点t属于[0,1] 均匀分布 用n_b_2=5000个点  属于pde边界随机选点\n",
    "x_b_1 = (x_left * torch.ones_like(t_rand)).requires_grad_(True)\n",
    "x_b_2 = (x_right * torch.ones_like(t_rand)).requires_grad_(True)\n",
    "#两个边界条件x=-1与x=1\n",
    "u_b_2 = PINN(torch.cat([t_rand, x_b_1], dim=1))\n",
    "#左边界的函数值，应该趋近于0\n",
    "u_b_3 = PINN(torch.cat([t_rand, x_b_2], dim=1))\n",
    "#右边界的函数值，应该趋近与0"
   ]
  },
  {
   "cell_type": "code",
   "execution_count": 21,
   "id": "7984641e",
   "metadata": {},
   "outputs": [
    {
     "data": {
      "text/plain": [
       "tensor(0.5349, device='cuda:0', grad_fn=<AddBackward0>)"
      ]
     },
     "execution_count": 21,
     "metadata": {},
     "output_type": "execute_result"
    }
   ],
   "source": [
    "mse_BC_1 = criterion(u_b_1, torch.zeros_like(u_b_1))\n",
    "mse_BC_2 = criterion(u_b_2, torch.zeros_like(u_b_2))\n",
    "mse_BC_3 = criterion(u_b_3, torch.zeros_like(u_b_3))\n",
    "#边界条件的损失函数\n",
    "mse_BC = mse_BC_1 + mse_BC_2 + mse_BC_3\n",
    "mse_BC"
   ]
  },
  {
   "cell_type": "code",
   "execution_count": 23,
   "id": "2c657526",
   "metadata": {},
   "outputs": [
    {
     "data": {
      "text/plain": [
       "tensor(0.5351, device='cuda:0', grad_fn=<AddBackward0>)"
      ]
     },
     "execution_count": 23,
     "metadata": {},
     "output_type": "execute_result"
    }
   ],
   "source": [
    "# loss函数综合方程内部与边界条件，权重比例为1：1\n",
    "loss = 1 * mse_PDE + 1 * mse_BC\n",
    "loss"
   ]
  },
  {
   "cell_type": "code",
   "execution_count": 35,
   "id": "f68de777",
   "metadata": {},
   "outputs": [
    {
     "data": {
      "text/plain": [
       "tensor(0.3727, device='cuda:0', grad_fn=<MseLossBackward0>)"
      ]
     },
     "execution_count": 35,
     "metadata": {},
     "output_type": "execute_result"
    }
   ],
   "source": [
    "# 预测解与真实解的差距\n",
    "x_pred = X_star[:, 0:1]\n",
    "t_pred = X_star[:, 1:2]\n",
    "u_pred = PINN(torch.cat([x_pred,t_pred], dim=1))\n",
    "mse_test = criterion(u_pred, u_star)\n",
    "mse_test"
   ]
  },
  {
   "cell_type": "code",
   "execution_count": 41,
   "id": "34828811",
   "metadata": {},
   "outputs": [
    {
     "data": {
      "text/plain": [
       "[tensor(0.5351, device='cuda:0', grad_fn=<AddBackward0>),\n",
       " tensor(0.5351, device='cuda:0', grad_fn=<AddBackward0>),\n",
       " tensor(0.5351, device='cuda:0', grad_fn=<AddBackward0>),\n",
       " 0.5351296067237854,\n",
       " 0.5351296067237854]"
      ]
     },
     "execution_count": 41,
     "metadata": {},
     "output_type": "execute_result"
    }
   ],
   "source": [
    "loss_history.append([mse_PDE.item(), mse_BC.item(), mse_test.item()])\n",
    "mse_loss.append(loss.item())\n"
   ]
  },
  {
   "cell_type": "code",
   "execution_count": 43,
   "id": "3ba3bf9a",
   "metadata": {},
   "outputs": [],
   "source": [
    "if (epoch + 1) % 1000 == 0:\n",
    "    print(\n",
    "    'epoch:{:05d}, PDE: {:.08e}, BC: {:.08e},  loss: {:.08e}'.format(\n",
    "        epoch, mse_PDE.item(), mse_BC.item(), loss.item()\n",
    "    )\n",
    ")\n",
    "#1000个epoch一轮报告数据，依次是PDE方程的损失函数，边界条件的损失函数，总的损失函数"
   ]
  },
  {
   "cell_type": "code",
   "execution_count": 44,
   "id": "138f7708",
   "metadata": {},
   "outputs": [],
   "source": [
    "loss.backward()"
   ]
  },
  {
   "cell_type": "code",
   "execution_count": 45,
   "id": "8fd9c066",
   "metadata": {},
   "outputs": [],
   "source": [
    "optimizer.step()\n",
    "        # 更新所有参数"
   ]
  },
  {
   "cell_type": "code",
   "execution_count": 46,
   "id": "efdbf6e0",
   "metadata": {},
   "outputs": [
    {
     "data": {
      "image/png": "[encoded data removed]",
      "text/plain": [
       "<Figure size 640x480 with 1 Axes>"
      ]
     },
     "metadata": {},
     "output_type": "display_data"
    },
    {
     "data": {
      "text/plain": [
       "<Figure size 1200x400 with 0 Axes>"
      ]
     },
     "metadata": {},
     "output_type": "display_data"
    }
   ],
   "source": [
    "plt.cla()\n",
    "fig = plt.figure(figsize=(12, 4))"
   ]
  },
  {
   "cell_type": "code",
   "execution_count": 95,
   "id": "5f95e902",
   "metadata": {},
   "outputs": [
    {
     "data": {
      "text/plain": [
       "tensor([[0.0000, 0.0000, 0.0000,  ..., 0.0000, 0.0000, 0.0000],\n",
       "        [0.0010, 0.0010, 0.0010,  ..., 0.0010, 0.0010, 0.0010],\n",
       "        [0.0020, 0.0020, 0.0020,  ..., 0.0020, 0.0020, 0.0020],\n",
       "        ...,\n",
       "        [0.9980, 0.9980, 0.9980,  ..., 0.9980, 0.9980, 0.9980],\n",
       "        [0.9990, 0.9990, 0.9990,  ..., 0.9990, 0.9990, 0.9990],\n",
       "        [1.0000, 1.0000, 1.0000,  ..., 1.0000, 1.0000, 1.0000]])"
      ]
     },
     "execution_count": 95,
     "metadata": {},
     "output_type": "execute_result"
    }
   ],
   "source": [
    "xx = torch.linspace(0, 1, 1000).cpu()\n",
    "yy = torch.linspace(-1, 1, 1000).cpu()\n",
    "x1, y1 = torch.meshgrid([xx, yy])\n",
    "#划分网格\n",
    "x1"
   ]
  },
  {
   "cell_type": "code",
   "execution_count": 96,
   "id": "180f0d90",
   "metadata": {},
   "outputs": [
    {
     "data": {
      "text/plain": [
       "tensor([[-0.0326, -0.0326, -0.0325,  ...,  0.0437,  0.0438,  0.0438],\n",
       "        [-0.0326, -0.0326, -0.0325,  ...,  0.0437,  0.0438,  0.0438],\n",
       "        [-0.0326, -0.0326, -0.0325,  ...,  0.0437,  0.0438,  0.0438],\n",
       "        ...,\n",
       "        [-0.0369, -0.0368, -0.0368,  ...,  0.0338,  0.0338,  0.0339],\n",
       "        [-0.0369, -0.0368, -0.0368,  ...,  0.0338,  0.0338,  0.0339],\n",
       "        [-0.0369, -0.0368, -0.0368,  ...,  0.0337,  0.0338,  0.0339]],\n",
       "       device='cuda:0', grad_fn=<ReshapeAliasBackward0>)"
      ]
     },
     "execution_count": 96,
     "metadata": {},
     "output_type": "execute_result"
    }
   ],
   "source": [
    "s1 = x1.shape\n",
    "x1 = x1.reshape((-1, 1))\n",
    "y1 = y1.reshape((-1, 1))\n",
    "            #换成一列数据\n",
    "out = torch.cat([x1, y1], dim=1).to(device)    \n",
    "z = PINN(out)\n",
    "z_out = z.reshape(s1)\n",
    "z_out"
   ]
  },
  {
   "cell_type": "code",
   "execution_count": 97,
   "id": "da82226d",
   "metadata": {},
   "outputs": [
    {
     "data": {
      "text/plain": [
       "array([[-0.03261375, -0.03262072, -0.03262768, ..., -0.0368797 ,\n",
       "        -0.03688191, -0.03688411],\n",
       "       [-0.03255909, -0.03256609, -0.03257304, ..., -0.03683841,\n",
       "        -0.03684063, -0.03684285],\n",
       "       [-0.03250434, -0.03251134, -0.03251831, ..., -0.03679703,\n",
       "        -0.03679926, -0.03680149],\n",
       "       ...,\n",
       "       [ 0.04371469,  0.04370775,  0.04370079, ...,  0.03377212,\n",
       "         0.03375965,  0.03374718],\n",
       "       [ 0.04376894,  0.04376201,  0.04375506, ...,  0.03383685,\n",
       "         0.03382438,  0.03381192],\n",
       "       [ 0.04382309,  0.04381616,  0.04380924, ...,  0.0339015 ,\n",
       "         0.03388905,  0.03387659]], dtype=float32)"
      ]
     },
     "execution_count": 97,
     "metadata": {},
     "output_type": "execute_result"
    }
   ],
   "source": [
    "out = z_out.cpu().T.detach().numpy()\n",
    "out"
   ]
  },
  {
   "cell_type": "code",
   "execution_count": 109,
   "id": "cf8b6702",
   "metadata": {},
   "outputs": [
    {
     "data": {
      "image/png": "[encoded data removed]",
      "text/plain": [
       "<Figure size 640x480 with 2 Axes>"
      ]
     },
     "metadata": {},
     "output_type": "display_data"
    }
   ],
   "source": [
    "plt.pcolormesh(xx, yy, out, cmap='rainbow')\n",
    "cbar = plt.colorbar(pad=0.05, aspect=10)\n",
    "cbar.mappable.set_clim(-1, 1)\n",
    "plt.xticks([])\n",
    "plt.yticks([])\n",
    "# plt.savefig('./result_plot/Burger1d_pred_{}.png'.format(epoch + 1), bbox_inches='tight', format='png')\n",
    "plt.show()"
   ]
  },
  {
   "cell_type": "code",
   "execution_count": 110,
   "id": "8858ae92",
   "metadata": {},
   "outputs": [
    {
     "data": {
      "image/png": "[encoded data removed]",
      "text/plain": [
       "<Figure size 640x480 with 2 Axes>"
      ]
     },
     "metadata": {},
     "output_type": "display_data"
    }
   ],
   "source": [
    "#按照给的精确解的点来画\n",
    "x_pred = X_star[:, 0:1]\n",
    "t_pred = X_star[:, 1:2]\n",
    "u_pred = PINN(torch.cat([t_pred, x_pred], dim=1))\n",
    "plt.pcolormesh(np.squeeze(t, axis=1), np.squeeze(x, axis=1),\n",
    "               u_pred.cpu().detach().numpy().reshape(s_shape).T, cmap='rainbow')\n",
    "cbar = plt.colorbar(pad=0.05, aspect=10)\n",
    "cbar.mappable.set_clim(-1, 1)\n",
    "plt.xticks([])\n",
    "plt.yticks([])\n",
    "plt.savefig('./result_plot/Burger1d_pred_{}.png'.format(epoch + 1), bbox_inches='tight', format='png')\n",
    "plt.show()"
   ]
  },
  {
   "cell_type": "code",
   "execution_count": 111,
   "id": "ae2b1948",
   "metadata": {},
   "outputs": [
    {
     "data": {
      "image/png": "[encoded data removed]",
      "text/plain": [
       "<Figure size 640x480 with 2 Axes>"
      ]
     },
     "metadata": {},
     "output_type": "display_data"
    }
   ],
   "source": [
    "plt.cla()\n",
    "mse_test = abs(u_pred - u_star)#求差的绝对值\n",
    "plt.pcolormesh(np.squeeze(t, axis=1), np.squeeze(x, axis=1),\n",
    "               mse_test.cpu().detach().numpy().reshape(s_shape).T, cmap='rainbow')\n",
    "cbar = plt.colorbar(pad=0.05, aspect=10)\n",
    "cbar.mappable.set_clim(0, 0.3)\n",
    "plt.xticks([])\n",
    "plt.yticks([])\n",
    "plt.savefig('./result_plot/Burger1d_error_{}.png'.format(epoch + 1), bbox_inches='tight', format='png')\n",
    "plt.show()"
   ]
  },
  {
   "cell_type": "code",
   "execution_count": 112,
   "id": "3ad7ed15",
   "metadata": {},
   "outputs": [
    {
     "data": {
      "image/png": "[encoded data removed]",
      "text/plain": [
       "<Figure size 1200x400 with 3 Axes>"
      ]
     },
     "metadata": {},
     "output_type": "display_data"
    }
   ],
   "source": [
    "fig, ax = plt.subplots(1, 3, figsize=(12, 4))"
   ]
  },
  {
   "cell_type": "code",
   "execution_count": 141,
   "id": "34420411",
   "metadata": {},
   "outputs": [
    {
     "data": {
      "text/plain": [
       "Text(0.5, 1.0, 't = 0.75')"
      ]
     },
     "execution_count": 141,
     "metadata": {},
     "output_type": "execute_result"
    },
    {
     "data": {
      "image/png": "[encoded data removed]",
      "text/plain": [
       "<Figure size 1200x400 with 3 Axes>"
      ]
     },
     "metadata": {},
     "output_type": "display_data"
    }
   ],
   "source": [
    "#三幅子图，分别是t=0.25,t=0.5,t=0.75时的x图\n",
    "fig, ax = plt.subplots(1, 3, figsize=(12, 4))\n",
    "x_25 = x.astype(np.float32)\n",
    "x_25 = torch.from_numpy(x_25).cuda().requires_grad_(True)\n",
    "t_25 = (0.25 * torch.ones_like(x_25)).requires_grad_(True)\n",
    "u_25 = PINN(torch.cat([t_25, x_25], dim=1))\n",
    "ax[0].plot(x, Exact[25, :], 'b-', linewidth=2)#蓝线是精确解\n",
    "ax[0].plot(x, u_25.reshape((-1, 1)).detach().cpu().numpy(), 'r--', lw='2')#红是预测\n",
    "ax[0].legend(labels=['Exact','PINN'])\n",
    "ax[0].set_xlabel('x')\n",
    "ax[0].set_ylabel('u(t,x)')\n",
    "ax[0].axis('square')\n",
    "ax[0].set_xlim([-1.1, 1.1])\n",
    "ax[0].set_ylim([-1.1, 1.1])\n",
    "ax[0].set_title('t = 0.25', fontsize=10)\n",
    "\n",
    " #第二幅子图\n",
    "t_50 = (0.5 * torch.ones_like(x_25)).requires_grad_(True)\n",
    "u_50 = PINN(torch.cat([t_50, x_25], dim=1))\n",
    "ax[1].plot(x, Exact[50, :], 'b-', linewidth=2)\n",
    "ax[1].plot(x, u_50.reshape((-1, 1)).detach().cpu().numpy(), 'r--', linewidth=2)\n",
    "ax[1].legend(labels=['Exact', 'PINN'])\n",
    "ax[1].set_xlabel('x')\n",
    "ax[1].set_ylabel('u(t,x)')\n",
    "ax[1].axis('square')\n",
    "ax[1].set_xlim([-1.1, 1.1])\n",
    "ax[1].set_ylim([-1.1, 1.1])\n",
    "ax[1].set_title('t = 0.50', fontsize=10)\n",
    "\n",
    "# 第三幅子图\n",
    "t_75 = (0.75 * torch.ones_like(x_25)).requires_grad_(True)\n",
    "u_75 = PINN(torch.cat([t_75, x_25], dim=1))\n",
    "ax[2].plot(x, Exact[75, :], 'b-', linewidth=2)\n",
    "ax[2].plot(x, u_75.reshape((-1, 1)).detach().cpu().numpy(), 'r--', linewidth=2)\n",
    "ax[2].legend(labels=['Exact', 'PINN'])\n",
    "ax[2].set_xlabel('x')\n",
    "ax[2].set_ylabel('u(t,x)')\n",
    "ax[2].axis('square')\n",
    "ax[2].set_xlim([-1.1, 1.1])\n",
    "ax[2].set_ylim([-1.1, 1.1])\n",
    "ax[2].set_title('t = 0.75', fontsize=10)"
   ]
  },
  {
   "cell_type": "code",
   "execution_count": 137,
   "id": "0ce5bdc3",
   "metadata": {},
   "outputs": [
    {
     "data": {
      "text/plain": [
       "Text(0.5, 1.0, 't = 0.50')"
      ]
     },
     "execution_count": 137,
     "metadata": {},
     "output_type": "execute_result"
    }
   ],
   "source": []
  },
  {
   "cell_type": "code",
   "execution_count": null,
   "id": "c754edd2",
   "metadata": {},
   "outputs": [],
   "source": []
  }
 ],
 "metadata": {
  "kernelspec": {
   "display_name": "Python 3 (ipykernel)",
   "language": "python",
   "name": "python3"
  },
  "language_info": {
   "codemirror_mode": {
    "name": "ipython",
    "version": 3
   },
   "file_extension": ".py",
   "mimetype": "text/x-python",
   "name": "python",
   "nbconvert_exporter": "python",
   "pygments_lexer": "ipython3",
   "version": "3.9.13"
  }
 },
 "nbformat": 4,
 "nbformat_minor": 5
}
